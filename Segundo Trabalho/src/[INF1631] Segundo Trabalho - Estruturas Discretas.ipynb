{
 "cells": [
  {
   "cell_type": "markdown",
   "metadata": {},
   "source": [
    "![PUC Logo](http://www.inf.puc-rio.br/~inf1005/images/logo_di.png)\n",
    "\n",
    "# Segundo Trabalho de Estruturas Discretas\n",
    "\n",
    ">Professor: Prof. Marcus Vinicius S. Poggi de Aragão\n",
    "- Este trabalho prático consiste em desenvolver códigos para diferentes algoritmos e estruturas de dados para resolver os problemas descritos e, principalmente, analisar o desempenho das implementações destes algoritmos com respeito ao tempo de CPU.\n",
    "\n",
    "Integrantes do grupo:\n",
    "- Gabriel Barbosa Diniz - 1511211\n",
    "- Lucas Rodrigues - 1510848\n",
    "- Mateus Ribeiro de Castro - 1213068"
   ]
  },
  {
   "cell_type": "markdown",
   "metadata": {},
   "source": [
    "## Primeira Questão (Teorema 1)\n",
    "\n",
    "> Dado um teorema do tipo: Sabe-se encontrar a árvore de peso máximo de G=(V,E) que contém o vértice 1 e possui K vértices; deseja-se encontrar o algoritmo correspondente que prove o teorema e teste o algoritmo em instâncias pequenas dos arquivos de dados fornecidos.\n",
    "\n",
    "### (I) Implementação Python com Testes:"
   ]
  },
  {
   "cell_type": "code",
   "execution_count": null,
   "metadata": {
    "collapsed": false
   },
   "outputs": [],
   "source": []
  },
  {
   "cell_type": "markdown",
   "metadata": {
    "collapsed": true
   },
   "source": [
    "## Primeira Questão (Teorema 1 - BÔNUS)\n",
    "\n",
    "> Repita os itens anteriores para o teorema do tipo: Sabe-se encontrar a floresta de peso mínimo de G = (V, E) onde os componentes conexos possuem pelo menos K vértices.\n",
    "\n",
    "### (I) Implementação Python com Testes:"
   ]
  },
  {
   "cell_type": "code",
   "execution_count": null,
   "metadata": {
    "collapsed": true
   },
   "outputs": [],
   "source": []
  },
  {
   "cell_type": "markdown",
   "metadata": {},
   "source": [
    "## Segunda Questão (Teorema 2)\n",
    "\n",
    "> Dado um teorema do tipo: Sabe-se determinar o prêmio máximo que o rei consegue coletar estando na posição (i,j) com q unidades restantes para consumir; apresente um algoritmo para determinar o caminho que o rei deve fazer para obter o maior total possível em prêmios e teste para um arquivo de dados com a estrutura apresentada.\n",
    "\n",
    "### (I) Implementação Python com Testes:"
   ]
  },
  {
   "cell_type": "code",
   "execution_count": null,
   "metadata": {
    "collapsed": true
   },
   "outputs": [],
   "source": []
  },
  {
   "cell_type": "markdown",
   "metadata": {},
   "source": [
    "## Terceira Questão (Teorema 3)\n",
    "\n",
    "> Considere um text definido pelo vetor de caracteres T[1..n]. Deseja-se determinar todas as ocorrências do string s[1..m] em T. Desenvolva algoritmos com este objetivo que atendam as condições determinadas...\n",
    "\n",
    "### (I) Implementação Python com Testes:"
   ]
  },
  {
   "cell_type": "code",
   "execution_count": null,
   "metadata": {
    "collapsed": true
   },
   "outputs": [],
   "source": []
  }
 ],
 "metadata": {
  "kernelspec": {
   "display_name": "Python 3",
   "language": "python",
   "name": "python3"
  },
  "language_info": {
   "codemirror_mode": {
    "name": "ipython",
    "version": 3
   },
   "file_extension": ".py",
   "mimetype": "text/x-python",
   "name": "python",
   "nbconvert_exporter": "python",
   "pygments_lexer": "ipython3",
   "version": "3.6.0"
  }
 },
 "nbformat": 4,
 "nbformat_minor": 2
}
