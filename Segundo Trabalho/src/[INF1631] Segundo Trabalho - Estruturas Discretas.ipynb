{
 "cells": [
  {
   "cell_type": "markdown",
   "metadata": {},
   "source": [
    "![PUC Logo](http://www.inf.puc-rio.br/~inf1005/images/logo_di.png)\n",
    "\n",
    "# Segundo Trabalho de Estruturas Discretas\n",
    "\n",
    ">Professor: Prof. Marcus Vinicius S. Poggi de Aragão\n",
    "- Este trabalho prático consiste em desenvolver códigos para diferentes algoritmos e estruturas de dados para resolver os problemas descritos e, principalmente, analisar o desempenho das implementações destes algoritmos com respeito ao tempo de CPU.\n",
    "\n",
    "Integrantes do grupo:\n",
    "- Gabriel Barbosa Diniz - 1511211\n",
    "- Lucas Rodrigues - 1510848\n",
    "- Mateus Ribeiro de Castro - 1213068"
   ]
  },
  {
   "cell_type": "markdown",
   "metadata": {},
   "source": [
    "## Primeira Questão (Teorema 1)\n",
    "\n",
    "> Dado um teorema do tipo: Sabe-se encontrar a árvore de peso máximo de G=(V,E) que contém o vértice 1 e possui K vértices; deseja-se encontrar o algoritmo correspondente que prove o teorema e teste o algoritmo em instâncias pequenas dos arquivos de dados fornecidos.\n",
    "\n",
    "### Prova por Indução:\n",
    "\n",
    "#### Caso Base:\n",
    "> Começando com $k=1$, teremos uma árvore de um vértice só, sem arestas, o que resulta num peso total zerado.\n",
    "\n",
    "#### Passo Indutivo em K:\n",
    "> Procura-se $max \\space (T(k))$ e somando os pesos das arestas de maior peso de cada uma das folhas. Para todos os nós, adicionam-se as arestas de maior peso com os vértices restantes, ou seja, $max \\space (p_b \\space t.q. \\space b \\space \\epsilon \\space (V - V_k))$\n",
    "\n",
    "> Dessa forma, saberemos que adicionamos as arestas de maior peso, e à medida que se aumenta K basta incluirmos mais arestas de maior peso.\n",
    "\n",
    "### (I) Implementação Python com Testes:"
   ]
  },
  {
   "cell_type": "code",
   "execution_count": 1,
   "metadata": {
    "collapsed": false
   },
   "outputs": [
    {
     "name": "stdout",
     "output_type": "stream",
     "text": [
      "1.0\n",
      "[[ 0.  1.  0.  1.]\n",
      " [ 1.  0.  2.  0.]\n",
      " [ 0.  2.  0.  0.]\n",
      " [ 1.  0.  0.  0.]]\n"
     ]
    }
   ],
   "source": [
    "import numpy as np\n",
    "\n",
    "# Algoritmo que recebe uma matriz de adjascências com os pesos das arestas e \n",
    "\n",
    "# OBS: Ao invés de usar vários parâmetros, procure usar o retorno múltiplo,\n",
    "#      retornando o visited e a arvore. No caso, base tenta retornar uma matriz\n",
    "#      vazia com o visited incluindo o primeiro vértice.\n",
    "\n",
    "def HeavyTree(M,k):\n",
    "    n = len(M)\n",
    "    if(k > n or k < 0):\n",
    "        print(\"K inválido!\")\n",
    "        return -1\n",
    "    # Caso Base\n",
    "    if(k == 1):\n",
    "        visited = [0]\n",
    "        tree = np.zeros((n,n))\n",
    "        return tree, visited\n",
    "    tree, visited = HeavyTree(M,k-1)\n",
    "    B = [] # Vertices vizinhos a vertices visitados\n",
    "    for i in range(n):\n",
    "        if(i not in visited):     # Aqui temos a avaliação de todos os vertices\n",
    "            for j in visited:     # não visitados que são vizinhos de vertices \n",
    "                if(M[i,j] != 0 and j not in B):  # visitados.\n",
    "                    B = B + [i]\n",
    "                    break\n",
    "    biggest = 0\n",
    "    new_v = 0\n",
    "    old_v = 0\n",
    "    for i in B:\n",
    "        #new = np.max(M[i])\n",
    "        for j in visited:\n",
    "            if (M[i,j] > biggest):\n",
    "                biggest = M[i,j]\n",
    "                new_v = i\n",
    "                old_v = j\n",
    "    visited = visited + [new_v]\n",
    "    #for i in range(n):\n",
    "    #    if(M[new_v,i] == biggest):\n",
    "    #        tree[i][new_v] = biggest\n",
    "    #        tree[new_v][i] = biggest\n",
    "    #        break\n",
    "    tree[new_v][old_v] = biggest\n",
    "    tree[old_v][new_v] = biggest\n",
    "    return tree, visited\n",
    "\n",
    "M = np.matrix([[0., 1., 1., 1.],\n",
    "               [1., 0., 2., 1.],\n",
    "               [1., 2., 0., 1.],\n",
    "               [1., 1., 1., 0.]])\n",
    "print(M[0,3])\n",
    "n = len(M)\n",
    "arvore, visited = HeavyTree(M,4)\n",
    "print(arvore)\n"
   ]
  },
  {
   "cell_type": "markdown",
   "metadata": {
    "collapsed": true
   },
   "source": [
    "## Primeira Questão (Teorema 1 - BÔNUS)\n",
    "\n",
    "> Repita os itens anteriores para o teorema do tipo: Sabe-se encontrar a floresta de peso mínimo de G = (V, E) onde os componentes conexos possuem pelo menos K vértices.\n",
    "\n",
    "### (I) Implementação Python com Testes:"
   ]
  },
  {
   "cell_type": "code",
   "execution_count": null,
   "metadata": {
    "collapsed": true
   },
   "outputs": [],
   "source": []
  },
  {
   "cell_type": "markdown",
   "metadata": {},
   "source": [
    "## Segunda Questão (Teorema 2)\n",
    "\n",
    "> Dado um teorema do tipo: Sabe-se determinar o prêmio máximo que o rei consegue coletar estando na posição (i,j) com q unidades restantes para consumir; apresente um algoritmo para determinar o caminho que o rei deve fazer para obter o maior total possível em prêmios e teste para um arquivo de dados com a estrutura apresentada.\n",
    "\n",
    "### Prova por Indução:\n",
    "\n",
    "> Caso Base: Com q = 0, temos um prêmio zero, pois não é possível se mover.\n",
    "\n",
    "\n",
    "> Passo Indutivo: Procura-se o max(T(Q-qk) + pk) tal que q é o custo de se mover para a casa k e p é seu peso. Ou seja, a medida que vai aumentando o combustível disponível, aumentam as possibilidades de casas que podem ser alcançadas. Nesse ponto, precisamos procurar o arranjo máximo para que seja possível fazer essa transição. Lembrando que podemos ter sobras, então procuramos quaisquer arranjos e procurando o maior valor possível.\n",
    "\n",
    "### (I) Implementação Python com Testes:"
   ]
  },
  {
   "cell_type": "code",
   "execution_count": 2,
   "metadata": {
    "collapsed": true
   },
   "outputs": [],
   "source": [
    "import numpy as np\n",
    "\n",
    "# Do capeta essa porra aqui! Início de uma resolução.\n",
    "\n",
    "def PremioMax(M,Prizes,Weights,Q):\n",
    "    if (Q < 0):\n",
    "        print(\"Valor de combustível inválido\")\n",
    "        return\n",
    "    if (Q == 0):\n",
    "        path = []\n",
    "        prize = 0\n",
    "        return path, prize # Caso Base, parada da recursão\n",
    "    n = len(M)\n",
    "    maxPrize = 0\n",
    "    maxPath = []\n",
    "    for i in range(n):\n",
    "        path, prize = PremioMax(M,Prizes,Weights,Q-Weights[i])\n",
    "        prize = prize + Prizes[i]\n",
    "        path = path + [i]\n",
    "        if(prize > maxP):\n",
    "            maxPrize = prize\n",
    "            maxPath = path\n",
    "    return maxPath, maxPrize\n",
    "\n",
    "# Inicialização dos Valores de Instância\n",
    "\n",
    "Q = 8"
   ]
  },
  {
   "cell_type": "markdown",
   "metadata": {},
   "source": [
    "## Terceira Questão (Teorema 3)\n",
    "\n",
    "> Considere um texto definido pelo vetor de caracteres T[1..n]. Deseja-se determinar todas as ocorrências do string s[1..m] em T. Desenvolva algoritmos com este objetivo que atendam as condições determinadas...\n",
    "\n",
    ">(a) - Acha as instâncias de uma palavra num texto.\n",
    "\n",
    "### (I) Implementação Python com Testes:"
   ]
  },
  {
   "cell_type": "code",
   "execution_count": 40,
   "metadata": {
    "collapsed": false
   },
   "outputs": [
    {
     "name": "stdout",
     "output_type": "stream",
     "text": [
      "[[1, 2], [5, 6], [7, 8]]\n"
     ]
    }
   ],
   "source": [
    "#def next(s, Table):\n",
    "#    pos = 1 # Posição da Tabela\n",
    "#    candidato = 0 # Indice de s do proximo caracter\n",
    "#    Table[0] = -1\n",
    "#    while(pos<len(s)){\n",
    "#        if(s[pos] == s[candidato]){\n",
    "#            Table[pos] = Table[candidato]\n",
    "#            pos = pos + 1\n",
    "#            candidato = candidato + 1\n",
    "#        } else {\n",
    "#            Table[pos] = candidato\n",
    "#            candidato = T[candidato]\n",
    "#            while(candidato >= 0 and s[pos] != s[cadidato]){\n",
    "#                candidato = Table[candidato]\n",
    "#            }\n",
    "#        }\n",
    "#        Table[pos] = candidato\n",
    "#    }\n",
    "    \n",
    "#def FindString(s, T):\n",
    "#    m = 0\n",
    "#    i = 0\n",
    "#    Table = np.zeros(len(s))\n",
    "#    next(s, Table)\n",
    "#    for j in range(len(s)):\n",
    "#        letra = s[j]\n",
    "#        n = 32 \n",
    "#        if(T[j] > 64 and T[j] < 91):\n",
    "#            letra = letra - n\n",
    "\n",
    "def Transform(string):\n",
    "    n = len(string)\n",
    "    for i in range(n):\n",
    "        if(maiuscula(string[i])):\n",
    "            string[i] = chr(ord(string[i]) + 32)\n",
    "    return string\n",
    "            \n",
    "def FindWord (text, word):\n",
    "    text = Transform(text)\n",
    "    word = Transform(word)\n",
    "    i = 0\n",
    "    j = 0\n",
    "    f = len(text)\n",
    "    n = len(word)\n",
    "    letra = text[i]\n",
    "    instances = []\n",
    "    start = 0\n",
    "    end = 0\n",
    "    in_string = 0\n",
    "    while(i<f):\n",
    "        if(letra == word[0] and in_string == 0):\n",
    "            j = 0\n",
    "            start = i\n",
    "            end = i\n",
    "            in_string = 1\n",
    "        if(in_string == 1 and letra != word[j]):\n",
    "            in_string = 0\n",
    "            start = 0\n",
    "            end = 0\n",
    "            j = 0            \n",
    "        if(in_string == 1 and letra == word[j] and j != (n-1)):\n",
    "            j = j + 1\n",
    "            end = end + 1   \n",
    "        if(in_string == 1 and letra == word[j] and j == (n-1)):\n",
    "            instances = instances + [[start,end]]\n",
    "            start = 0\n",
    "            end = 0\n",
    "            in_string = 0\n",
    "        if(i == (f-1)):\n",
    "            break\n",
    "        i = i + 1\n",
    "        letra = text[i]\n",
    "    return instances\n",
    "\n",
    "text = ['a','B','c','d','e','b','c','b','c','e','f']\n",
    "word = ['B','c']\n",
    "\n",
    "instances = FindWord(text,word)\n",
    "print(instances)"
   ]
  }
 ],
 "metadata": {
  "kernelspec": {
   "display_name": "Python 3",
   "language": "python",
   "name": "python3"
  },
  "language_info": {
   "codemirror_mode": {
    "name": "ipython",
    "version": 3
   },
   "file_extension": ".py",
   "mimetype": "text/x-python",
   "name": "python",
   "nbconvert_exporter": "python",
   "pygments_lexer": "ipython3",
   "version": "3.5.3"
  }
 },
 "nbformat": 4,
 "nbformat_minor": 2
}
