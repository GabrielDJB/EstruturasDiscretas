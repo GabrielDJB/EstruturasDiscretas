{
 "cells": [
  {
   "cell_type": "markdown",
   "metadata": {},
   "source": [
    "# Trabalho de Estruturas Discretas\n",
    "## Gabriel Barbosa - 1511211 e Lucas Rodrigues -\n",
    "### Primeira Questão - Obter o coeficiente, baseado na prova do enunciado."
   ]
  },
  {
   "cell_type": "code",
   "execution_count": 40,
   "metadata": {
    "collapsed": false
   },
   "outputs": [
    {
     "name": "stdout",
     "output_type": "stream",
     "text": [
      "CASO 1\n",
      "\n",
      "Valor de X: 7\n",
      "Valor de Y: 4\n",
      "Valor de N: 2\n",
      "\n",
      "Valor de x^n - y^n: 33.0\n",
      "Valor de x - y: 3\n",
      "Valor de qk * (x - y): 33.0\n",
      "Coeficiente qk: 11.0\n",
      "\n",
      "CASO 2\n",
      "\n",
      "Valor de X: 5\n",
      "Valor de Y: 3\n",
      "Valor de N: 1\n",
      "\n",
      "Valor de x^n - y^n: 2.0\n",
      "Valor de x - y: 2\n",
      "Valor de qk * (x - y): 2\n",
      "Coeficiente qk: 1\n",
      "\n",
      "CASO 3\n",
      "\n",
      "Parametros invalidos, n menor ou igual a zero!\n",
      "\n",
      "CASO 4\n",
      "\n",
      "Valor de X: 145\n",
      "Valor de Y: 5\n",
      "Valor de N: 3\n",
      "\n",
      "Valor de x^n - y^n: 3048500.0\n",
      "Valor de x - y: 140\n",
      "Valor de qk * (x - y): 3048500.0\n",
      "Coeficiente qk: 21775.0\n",
      "\n"
     ]
    }
   ],
   "source": [
    "import numpy as np\n",
    "import math as m\n",
    "\n",
    "# Função de Coeficiente:\n",
    "#\n",
    "# Descrição: Obtém o valor do coeficiente procurado no teorema.\n",
    "#\n",
    "# Parâmetros: x - Valor de x da expressão\n",
    "#             y - Valor de y da expressão\n",
    "#             n - Valor de n da expressão\n",
    "#\n",
    "# Retorno: q - Coeficiente da divisão de x^n - y^n por x - y.\n",
    "\n",
    "def coeficiente(x, y, n):\n",
    "    #Checa se n é positivo e maior que zero\n",
    "    if(n <= 0):\n",
    "        print(\"Parametros invalidos, n menor ou igual a zero!\\n\")\n",
    "        return -1\n",
    "    #Checa se estamos trabalhando com o caso base\n",
    "    if(n == 1):\n",
    "        return 1\n",
    "    #CASO BASE: q1 = 1\n",
    "    q = 1\n",
    "    #Será um método iterativo, processando até n\n",
    "    for i in range(0, n-1):\n",
    "        q = m.pow(x, (i+1)) + y * q\n",
    "    return q\n",
    "\n",
    "# Função de Teste:\n",
    "#\n",
    "# Descrição: Exibe cada caso de testes, tendo chamado a função que obtém o coeficiente.\n",
    "#\n",
    "# Parâmetros: x - Valor de x da expressão\n",
    "#             y - Valor de y da expressão\n",
    "#             n - Valor de n da expressão\n",
    "#             i - Número do caso de teste\n",
    "#\n",
    "# Retorno: Imprime no console as informações sobre o caso de teste.\n",
    "\n",
    "def teste(x,y,n,i):\n",
    "    print(\"CASO \" + str(i) + \"\\n\")\n",
    "    \n",
    "    v1 = m.pow(x,n) - m.pow(y,n)\n",
    "    v2 = x-y\n",
    "    q = coeficiente(x,y,n)\n",
    "    v3 = q * v2\n",
    "    \n",
    "    if(q == -1):\n",
    "        return\n",
    "    \n",
    "    print(\"Valor de X: \" + str(x))\n",
    "    print(\"Valor de Y: \" + str(y))\n",
    "    print(\"Valor de N: \" + str(n) + \"\\n\")\n",
    "    print(\"Valor de x^n - y^n: \" + str(v1))\n",
    "    print(\"Valor de x - y: \" + str(v2))\n",
    "    print(\"Valor de qk * (x - y): \" + str(v3))\n",
    "    print(\"Coeficiente qk: \" + str(q) + \"\\n\")\n",
    "    \n",
    "\n",
    "#Primeiro caso\n",
    "teste(7, 4, 2, 1)\n",
    "\n",
    "#Segundo caso\n",
    "teste(5, 3, 1, 2)\n",
    "\n",
    "#Terceiro caso\n",
    "teste(6, 4, -1, 3)\n",
    "\n",
    "#Quarto caso\n",
    "teste(145, 5, 3, 4)"
   ]
  },
  {
   "cell_type": "code",
   "execution_count": null,
   "metadata": {
    "collapsed": true
   },
   "outputs": [],
   "source": []
  }
 ],
 "metadata": {
  "kernelspec": {
   "display_name": "Python 3",
   "language": "python",
   "name": "python3"
  },
  "language_info": {
   "codemirror_mode": {
    "name": "ipython",
    "version": 3
   },
   "file_extension": ".py",
   "mimetype": "text/x-python",
   "name": "python",
   "nbconvert_exporter": "python",
   "pygments_lexer": "ipython3",
   "version": "3.5.3"
  }
 },
 "nbformat": 4,
 "nbformat_minor": 2
}
